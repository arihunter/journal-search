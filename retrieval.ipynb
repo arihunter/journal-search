{
 "cells": [
  {
   "cell_type": "code",
   "execution_count": 1,
   "metadata": {},
   "outputs": [
    {
     "name": "stdout",
     "output_type": "stream",
     "text": [
      "Defaulting to user installation because normal site-packages is not writeable\n",
      "Collecting llama-hub\n",
      "  Downloading llama_hub-0.0.15-py3-none-any.whl (887 kB)\n",
      "                                              0.0/887.0 kB ? eta -:--:--\n",
      "     -----------------------               553.0/887.0 kB 17.5 MB/s eta 0:00:01\n",
      "     ------------------------------------- 887.0/887.0 kB 13.9 MB/s eta 0:00:00\n",
      "Collecting atlassian-python-api (from llama-hub)\n",
      "  Downloading atlassian-python-api-3.39.0.tar.gz (157 kB)\n",
      "                                              0.0/157.5 kB ? eta -:--:--\n",
      "     ---------------------------------------- 157.5/157.5 kB ? eta 0:00:00\n",
      "  Installing build dependencies: started\n",
      "  Installing build dependencies: finished with status 'done'\n",
      "  Getting requirements to build wheel: started\n",
      "  Getting requirements to build wheel: finished with status 'done'\n",
      "  Preparing metadata (pyproject.toml): started\n",
      "  Preparing metadata (pyproject.toml): finished with status 'done'\n",
      "Collecting html2text (from llama-hub)\n",
      "  Downloading html2text-2020.1.16-py3-none-any.whl (32 kB)\n",
      "Requirement already satisfied: llama-index>=0.6.9 in c:\\users\\derek\\appdata\\roaming\\python\\python39\\site-packages (from llama-hub) (0.7.4)\n",
      "Requirement already satisfied: psutil in c:\\users\\derek\\appdata\\roaming\\python\\python39\\site-packages (from llama-hub) (5.9.5)\n",
      "Collecting retrying (from llama-hub)\n",
      "  Downloading retrying-1.3.4-py3-none-any.whl (11 kB)\n",
      "Requirement already satisfied: tiktoken in c:\\users\\derek\\appdata\\roaming\\python\\python39\\site-packages (from llama-index>=0.6.9->llama-hub) (0.4.0)\n",
      "Requirement already satisfied: dataclasses-json in c:\\users\\derek\\appdata\\roaming\\python\\python39\\site-packages (from llama-index>=0.6.9->llama-hub) (0.5.7)\n",
      "Requirement already satisfied: langchain>=0.0.218 in c:\\users\\derek\\appdata\\roaming\\python\\python39\\site-packages (from llama-index>=0.6.9->llama-hub) (0.0.228)\n",
      "Requirement already satisfied: sqlalchemy>=2.0.15 in c:\\users\\derek\\appdata\\roaming\\python\\python39\\site-packages (from llama-index>=0.6.9->llama-hub) (2.0.15)\n",
      "Requirement already satisfied: numpy in c:\\users\\derek\\appdata\\roaming\\python\\python39\\site-packages (from llama-index>=0.6.9->llama-hub) (1.23.5)\n",
      "Requirement already satisfied: tenacity<9.0.0,>=8.2.0 in c:\\users\\derek\\appdata\\roaming\\python\\python39\\site-packages (from llama-index>=0.6.9->llama-hub) (8.2.2)\n",
      "Requirement already satisfied: openai>=0.26.4 in c:\\users\\derek\\appdata\\roaming\\python\\python39\\site-packages (from llama-index>=0.6.9->llama-hub) (0.27.7)\n",
      "Requirement already satisfied: pandas in c:\\users\\derek\\appdata\\roaming\\python\\python39\\site-packages (from llama-index>=0.6.9->llama-hub) (1.5.3)\n",
      "Requirement already satisfied: urllib3<2 in c:\\users\\derek\\appdata\\roaming\\python\\python39\\site-packages (from llama-index>=0.6.9->llama-hub) (1.26.16)\n",
      "Requirement already satisfied: fsspec>=2023.5.0 in c:\\users\\derek\\appdata\\roaming\\python\\python39\\site-packages (from llama-index>=0.6.9->llama-hub) (2023.5.0)\n",
      "Requirement already satisfied: typing-inspect==0.8.0 in c:\\users\\derek\\appdata\\roaming\\python\\python39\\site-packages (from llama-index>=0.6.9->llama-hub) (0.8.0)\n",
      "Requirement already satisfied: typing-extensions==4.5.0 in c:\\users\\derek\\appdata\\roaming\\python\\python39\\site-packages (from llama-index>=0.6.9->llama-hub) (4.5.0)\n",
      "Requirement already satisfied: beautifulsoup4 in c:\\users\\derek\\appdata\\roaming\\python\\python39\\site-packages (from llama-index>=0.6.9->llama-hub) (4.12.2)\n",
      "Requirement already satisfied: nest-asyncio in c:\\users\\derek\\appdata\\roaming\\python\\python39\\site-packages (from llama-index>=0.6.9->llama-hub) (1.5.6)\n",
      "Requirement already satisfied: mypy-extensions>=0.3.0 in c:\\users\\derek\\appdata\\roaming\\python\\python39\\site-packages (from typing-inspect==0.8.0->llama-index>=0.6.9->llama-hub) (1.0.0)\n",
      "Requirement already satisfied: deprecated in c:\\users\\derek\\appdata\\roaming\\python\\python39\\site-packages (from atlassian-python-api->llama-hub) (1.2.14)\n",
      "Requirement already satisfied: requests in c:\\users\\derek\\appdata\\roaming\\python\\python39\\site-packages (from atlassian-python-api->llama-hub) (2.31.0)\n",
      "Requirement already satisfied: six in c:\\users\\derek\\appdata\\roaming\\python\\python39\\site-packages (from atlassian-python-api->llama-hub) (1.16.0)\n",
      "Collecting oauthlib (from atlassian-python-api->llama-hub)\n",
      "  Using cached oauthlib-3.2.2-py3-none-any.whl (151 kB)\n",
      "Collecting requests-oauthlib (from atlassian-python-api->llama-hub)\n",
      "  Using cached requests_oauthlib-1.3.1-py2.py3-none-any.whl (23 kB)\n",
      "Requirement already satisfied: PyYAML>=5.4.1 in c:\\users\\derek\\appdata\\roaming\\python\\python39\\site-packages (from langchain>=0.0.218->llama-index>=0.6.9->llama-hub) (6.0)\n",
      "Requirement already satisfied: aiohttp<4.0.0,>=3.8.3 in c:\\users\\derek\\appdata\\roaming\\python\\python39\\site-packages (from langchain>=0.0.218->llama-index>=0.6.9->llama-hub) (3.8.4)\n",
      "Requirement already satisfied: async-timeout<5.0.0,>=4.0.0 in c:\\users\\derek\\appdata\\roaming\\python\\python39\\site-packages (from langchain>=0.0.218->llama-index>=0.6.9->llama-hub) (4.0.2)\n",
      "Requirement already satisfied: langchainplus-sdk<0.0.21,>=0.0.20 in c:\\users\\derek\\appdata\\roaming\\python\\python39\\site-packages (from langchain>=0.0.218->llama-index>=0.6.9->llama-hub) (0.0.20)\n",
      "Requirement already satisfied: numexpr<3.0.0,>=2.8.4 in c:\\users\\derek\\appdata\\roaming\\python\\python39\\site-packages (from langchain>=0.0.218->llama-index>=0.6.9->llama-hub) (2.8.4)\n",
      "Requirement already satisfied: openapi-schema-pydantic<2.0,>=1.2 in c:\\users\\derek\\appdata\\roaming\\python\\python39\\site-packages (from langchain>=0.0.218->llama-index>=0.6.9->llama-hub) (1.2.4)\n",
      "Requirement already satisfied: pydantic<2,>=1 in c:\\users\\derek\\appdata\\roaming\\python\\python39\\site-packages (from langchain>=0.0.218->llama-index>=0.6.9->llama-hub) (1.10.8)\n",
      "Requirement already satisfied: marshmallow<4.0.0,>=3.3.0 in c:\\users\\derek\\appdata\\roaming\\python\\python39\\site-packages (from dataclasses-json->llama-index>=0.6.9->llama-hub) (3.19.0)\n",
      "Requirement already satisfied: marshmallow-enum<2.0.0,>=1.5.1 in c:\\users\\derek\\appdata\\roaming\\python\\python39\\site-packages (from dataclasses-json->llama-index>=0.6.9->llama-hub) (1.5.1)\n",
      "Requirement already satisfied: tqdm in c:\\users\\derek\\appdata\\roaming\\python\\python39\\site-packages (from openai>=0.26.4->llama-index>=0.6.9->llama-hub) (4.65.0)\n",
      "Requirement already satisfied: charset-normalizer<4,>=2 in c:\\users\\derek\\appdata\\roaming\\python\\python39\\site-packages (from requests->atlassian-python-api->llama-hub) (3.1.0)\n",
      "Requirement already satisfied: idna<4,>=2.5 in c:\\users\\derek\\appdata\\roaming\\python\\python39\\site-packages (from requests->atlassian-python-api->llama-hub) (3.4)\n",
      "Requirement already satisfied: certifi>=2017.4.17 in c:\\users\\derek\\appdata\\roaming\\python\\python39\\site-packages (from requests->atlassian-python-api->llama-hub) (2023.5.7)\n",
      "Requirement already satisfied: greenlet!=0.4.17 in c:\\users\\derek\\appdata\\roaming\\python\\python39\\site-packages (from sqlalchemy>=2.0.15->llama-index>=0.6.9->llama-hub) (2.0.2)\n",
      "Requirement already satisfied: soupsieve>1.2 in c:\\users\\derek\\appdata\\roaming\\python\\python39\\site-packages (from beautifulsoup4->llama-index>=0.6.9->llama-hub) (2.4.1)\n",
      "Requirement already satisfied: wrapt<2,>=1.10 in c:\\users\\derek\\appdata\\roaming\\python\\python39\\site-packages (from deprecated->atlassian-python-api->llama-hub) (1.14.1)\n",
      "Requirement already satisfied: python-dateutil>=2.8.1 in c:\\users\\derek\\appdata\\roaming\\python\\python39\\site-packages (from pandas->llama-index>=0.6.9->llama-hub) (2.8.2)\n",
      "Requirement already satisfied: pytz>=2020.1 in c:\\users\\derek\\appdata\\roaming\\python\\python39\\site-packages (from pandas->llama-index>=0.6.9->llama-hub) (2023.3)\n",
      "Requirement already satisfied: regex>=2022.1.18 in c:\\users\\derek\\appdata\\roaming\\python\\python39\\site-packages (from tiktoken->llama-index>=0.6.9->llama-hub) (2023.5.5)\n",
      "Requirement already satisfied: attrs>=17.3.0 in c:\\users\\derek\\appdata\\roaming\\python\\python39\\site-packages (from aiohttp<4.0.0,>=3.8.3->langchain>=0.0.218->llama-index>=0.6.9->llama-hub) (23.1.0)\n",
      "Requirement already satisfied: multidict<7.0,>=4.5 in c:\\users\\derek\\appdata\\roaming\\python\\python39\\site-packages (from aiohttp<4.0.0,>=3.8.3->langchain>=0.0.218->llama-index>=0.6.9->llama-hub) (6.0.4)\n",
      "Requirement already satisfied: yarl<2.0,>=1.0 in c:\\users\\derek\\appdata\\roaming\\python\\python39\\site-packages (from aiohttp<4.0.0,>=3.8.3->langchain>=0.0.218->llama-index>=0.6.9->llama-hub) (1.9.2)\n",
      "Requirement already satisfied: frozenlist>=1.1.1 in c:\\users\\derek\\appdata\\roaming\\python\\python39\\site-packages (from aiohttp<4.0.0,>=3.8.3->langchain>=0.0.218->llama-index>=0.6.9->llama-hub) (1.3.3)\n",
      "Requirement already satisfied: aiosignal>=1.1.2 in c:\\users\\derek\\appdata\\roaming\\python\\python39\\site-packages (from aiohttp<4.0.0,>=3.8.3->langchain>=0.0.218->llama-index>=0.6.9->llama-hub) (1.3.1)\n",
      "Requirement already satisfied: packaging>=17.0 in c:\\users\\derek\\appdata\\roaming\\python\\python39\\site-packages (from marshmallow<4.0.0,>=3.3.0->dataclasses-json->llama-index>=0.6.9->llama-hub) (23.1)\n",
      "Requirement already satisfied: colorama in c:\\users\\derek\\appdata\\roaming\\python\\python39\\site-packages (from tqdm->openai>=0.26.4->llama-index>=0.6.9->llama-hub) (0.4.6)\n",
      "Building wheels for collected packages: atlassian-python-api\n",
      "  Building wheel for atlassian-python-api (pyproject.toml): started\n",
      "  Building wheel for atlassian-python-api (pyproject.toml): finished with status 'done'\n",
      "  Created wheel for atlassian-python-api: filename=atlassian_python_api-3.39.0-py3-none-any.whl size=163487 sha256=f6f04e946c807eaa949d93961ffc200c4e49dceb9d5a1c931ffd36f48b50db70\n",
      "  Stored in directory: c:\\users\\derek\\appdata\\local\\pip\\cache\\wheels\\90\\96\\41\\e5ccd996d254db16c3977db057ea9e1ee4e999d4ae7a40d6da\n",
      "Successfully built atlassian-python-api\n",
      "Installing collected packages: retrying, oauthlib, html2text, requests-oauthlib, atlassian-python-api, llama-hub\n",
      "Successfully installed atlassian-python-api-3.39.0 html2text-2020.1.16 llama-hub-0.0.15 oauthlib-3.2.2 requests-oauthlib-1.3.1 retrying-1.3.4\n"
     ]
    },
    {
     "name": "stderr",
     "output_type": "stream",
     "text": [
      "\n",
      "[notice] A new release of pip is available: 23.1.2 -> 23.2.1\n",
      "[notice] To update, run: python.exe -m pip install --upgrade pip\n"
     ]
    }
   ],
   "source": [
    "!pip install llama-hub\n"
   ]
  },
  {
   "cell_type": "code",
   "execution_count": 10,
   "metadata": {},
   "outputs": [
    {
     "name": "stdout",
     "output_type": "stream",
     "text": [
      "Defaulting to user installation because normal site-packages is not writeable\n",
      "Collecting python-dotenv\n",
      "  Using cached python_dotenv-1.0.0-py3-none-any.whl (19 kB)\n",
      "Installing collected packages: python-dotenv\n",
      "Successfully installed python-dotenv-1.0.0\n",
      "Note: you may need to restart the kernel to use updated packages.\n"
     ]
    },
    {
     "name": "stderr",
     "output_type": "stream",
     "text": [
      "\n",
      "[notice] A new release of pip is available: 23.1.2 -> 23.2.1\n",
      "[notice] To update, run: python.exe -m pip install --upgrade pip\n"
     ]
    }
   ],
   "source": [
    "pip install python-dotenv\n"
   ]
  },
  {
   "cell_type": "code",
   "execution_count": 11,
   "metadata": {},
   "outputs": [],
   "source": [
    "from llama_index import VectorStoreIndex\n",
    "from llama_hub.file.pdf.base import PDFReader\n",
    "import dotenv\n",
    "from dotenv import load_dotenv"
   ]
  },
  {
   "cell_type": "code",
   "execution_count": null,
   "metadata": {},
   "outputs": [],
   "source": [
    "# load our data from folder \n",
    "\n",
    "load_dotenv()"
   ]
  }
 ],
 "metadata": {
  "kernelspec": {
   "display_name": "Python 3",
   "language": "python",
   "name": "python3"
  },
  "language_info": {
   "codemirror_mode": {
    "name": "ipython",
    "version": 3
   },
   "file_extension": ".py",
   "mimetype": "text/x-python",
   "name": "python",
   "nbconvert_exporter": "python",
   "pygments_lexer": "ipython3",
   "version": "3.9.13"
  },
  "orig_nbformat": 4
 },
 "nbformat": 4,
 "nbformat_minor": 2
}
